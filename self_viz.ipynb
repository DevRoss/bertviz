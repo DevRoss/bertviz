{
 "cells": [
  {
   "cell_type": "code",
   "execution_count": 3,
   "metadata": {},
   "outputs": [],
   "source": [
    "import numpy as np\n",
    "from bertviz import attention, visualization"
   ]
  },
  {
   "cell_type": "code",
   "execution_count": 4,
   "metadata": {},
   "outputs": [],
   "source": [
    "path = 'attention_array/bert_full/bert__self.npy'"
   ]
  },
  {
   "cell_type": "code",
   "execution_count": 5,
   "metadata": {},
   "outputs": [],
   "source": [
    "attn = np.load(path)"
   ]
  },
  {
   "cell_type": "code",
   "execution_count": 6,
   "metadata": {},
   "outputs": [
    {
     "data": {
      "text/plain": [
       "(4528, 30, 30)"
      ]
     },
     "execution_count": 6,
     "metadata": {},
     "output_type": "execute_result"
    }
   ],
   "source": [
    "attn.shape"
   ]
  },
  {
   "cell_type": "code",
   "execution_count": 7,
   "metadata": {},
   "outputs": [
    {
     "data": {
      "application/javascript": [
       "require.config({\n",
       "  paths: {\n",
       "      d3: '//cdnjs.cloudflare.com/ajax/libs/d3/5.7.0/d3.min'\n",
       "  }\n",
       "});\n"
      ],
      "text/plain": [
       "<IPython.core.display.Javascript object>"
      ]
     },
     "metadata": {},
     "output_type": "display_data"
    }
   ],
   "source": [
    "%%javascript\n",
    "require.config({\n",
    "  paths: {\n",
    "      d3: '//cdnjs.cloudflare.com/ajax/libs/d3/5.7.0/d3.min'\n",
    "  }\n",
    "});"
   ]
  },
  {
   "cell_type": "code",
   "execution_count": 20,
   "metadata": {},
   "outputs": [],
   "source": [
    "def call_html():\n",
    "  import IPython\n",
    "  display(IPython.core.display.HTML('''\n",
    "        <script src=\"/static/components/requirejs/require.js\"></script>\n",
    "        <script>\n",
    "          requirejs.config({\n",
    "            paths: {\n",
    "              base: '/static/base',\n",
    "              \"d3\": \"https://cdnjs.cloudflare.com/ajax/libs/d3/3.5.8/d3.min\",\n",
    "              jquery: '//ajax.googleapis.com/ajax/libs/jquery/2.0.0/jquery.min',\n",
    "            },\n",
    "          });\n",
    "        </script>\n",
    "        '''))"
   ]
  },
  {
   "cell_type": "code",
   "execution_count": 21,
   "metadata": {},
   "outputs": [],
   "source": [
    "tmp = attn[0]"
   ]
  },
  {
   "cell_type": "code",
   "execution_count": 22,
   "metadata": {},
   "outputs": [],
   "source": [
    "tmp = tmp.reshape((1, 1, 1, 30, 30))"
   ]
  },
  {
   "cell_type": "code",
   "execution_count": 23,
   "metadata": {},
   "outputs": [
    {
     "data": {
      "text/plain": [
       "(1, 1, 1, 30, 30)"
      ]
     },
     "execution_count": 23,
     "metadata": {},
     "output_type": "execute_result"
    }
   ],
   "source": [
    "tmp.shape"
   ]
  },
  {
   "cell_type": "code",
   "execution_count": 24,
   "metadata": {},
   "outputs": [
    {
     "data": {
      "text/html": [
       "\n",
       "        <script src=\"/static/components/requirejs/require.js\"></script>\n",
       "        <script>\n",
       "          requirejs.config({\n",
       "            paths: {\n",
       "              base: '/static/base',\n",
       "              \"d3\": \"https://cdnjs.cloudflare.com/ajax/libs/d3/3.5.8/d3.min\",\n",
       "              jquery: '//ajax.googleapis.com/ajax/libs/jquery/2.0.0/jquery.min',\n",
       "            },\n",
       "          });\n",
       "        </script>\n",
       "        "
      ],
      "text/plain": [
       "<IPython.core.display.HTML object>"
      ]
     },
     "metadata": {},
     "output_type": "display_data"
    },
    {
     "data": {
      "text/html": [
       "\n",
       "  <span style=\"user-select:none\">\n",
       "    Layer: <select id=\"layer\"></select>\n",
       "    Attention: <select id=\"att_type\">\n",
       "      <option value=\"all\">All</option>\n",
       "      <option value=\"a\">Sentence A self-attention</option>\n",
       "      <option value=\"b\">Sentence B self-attention</option>\n",
       "      <option value=\"ab\">Sentence A -> Sentence B</option>\n",
       "      <option value=\"ba\">Sentence B -> Sentence A</option>\n",
       "    </select>\n",
       "  </span>\n",
       "  <div id='vis'></div>\n"
      ],
      "text/plain": [
       "<IPython.core.display.HTML object>"
      ]
     },
     "metadata": {},
     "output_type": "display_data"
    },
    {
     "data": {
      "application/javascript": [
       "window.attention = {\"all\": {\"att\": [[[[0.16779863834381104, 0.1665114462375641, 0.16628912091255188, 0.16642801463603973, 0.16632521152496338, 0.16664758324623108, 0.0, 0.0, 0.0, 0.0, 0.0, 0.0, 0.0, 0.0, 0.0, 0.0, 0.0, 0.0, 0.0, 0.0, 0.0, 0.0, 0.0, 0.0, 0.0, 0.0, 0.0, 0.0, 0.0, 0.0], [0.1670670062303543, 0.16656199097633362, 0.1665695607662201, 0.1666916161775589, 0.16656452417373657, 0.1665453314781189, 0.0, 0.0, 0.0, 0.0, 0.0, 0.0, 0.0, 0.0, 0.0, 0.0, 0.0, 0.0, 0.0, 0.0, 0.0, 0.0, 0.0, 0.0, 0.0, 0.0, 0.0, 0.0, 0.0, 0.0], [0.1669328510761261, 0.16658444702625275, 0.16657336056232452, 0.16657118499279022, 0.1665325164794922, 0.16680559515953064, 0.0, 0.0, 0.0, 0.0, 0.0, 0.0, 0.0, 0.0, 0.0, 0.0, 0.0, 0.0, 0.0, 0.0, 0.0, 0.0, 0.0, 0.0, 0.0, 0.0, 0.0, 0.0, 0.0, 0.0], [0.16703882813453674, 0.16653141379356384, 0.16639797389507294, 0.16642770171165466, 0.1665537804365158, 0.1670503169298172, 0.0, 0.0, 0.0, 0.0, 0.0, 0.0, 0.0, 0.0, 0.0, 0.0, 0.0, 0.0, 0.0, 0.0, 0.0, 0.0, 0.0, 0.0, 0.0, 0.0, 0.0, 0.0, 0.0, 0.0], [0.16669587790966034, 0.16667310893535614, 0.16664071381092072, 0.16658808290958405, 0.16663384437561035, 0.16676834225654602, 0.0, 0.0, 0.0, 0.0, 0.0, 0.0, 0.0, 0.0, 0.0, 0.0, 0.0, 0.0, 0.0, 0.0, 0.0, 0.0, 0.0, 0.0, 0.0, 0.0, 0.0, 0.0, 0.0, 0.0], [0.166002556681633, 0.16710500419139862, 0.16678735613822937, 0.16670715808868408, 0.16696564853191376, 0.1664322465658188, 0.0, 0.0, 0.0, 0.0, 0.0, 0.0, 0.0, 0.0, 0.0, 0.0, 0.0, 0.0, 0.0, 0.0, 0.0, 0.0, 0.0, 0.0, 0.0, 0.0, 0.0, 0.0, 0.0, 0.0], [0.1666666716337204, 0.1666666716337204, 0.1666666716337204, 0.1666666716337204, 0.1666666716337204, 0.1666666716337204, 0.0, 0.0, 0.0, 0.0, 0.0, 0.0, 0.0, 0.0, 0.0, 0.0, 0.0, 0.0, 0.0, 0.0, 0.0, 0.0, 0.0, 0.0, 0.0, 0.0, 0.0, 0.0, 0.0, 0.0], [0.1666666716337204, 0.1666666716337204, 0.1666666716337204, 0.1666666716337204, 0.1666666716337204, 0.1666666716337204, 0.0, 0.0, 0.0, 0.0, 0.0, 0.0, 0.0, 0.0, 0.0, 0.0, 0.0, 0.0, 0.0, 0.0, 0.0, 0.0, 0.0, 0.0, 0.0, 0.0, 0.0, 0.0, 0.0, 0.0], [0.1666666716337204, 0.1666666716337204, 0.1666666716337204, 0.1666666716337204, 0.1666666716337204, 0.1666666716337204, 0.0, 0.0, 0.0, 0.0, 0.0, 0.0, 0.0, 0.0, 0.0, 0.0, 0.0, 0.0, 0.0, 0.0, 0.0, 0.0, 0.0, 0.0, 0.0, 0.0, 0.0, 0.0, 0.0, 0.0], [0.1666666716337204, 0.1666666716337204, 0.1666666716337204, 0.1666666716337204, 0.1666666716337204, 0.1666666716337204, 0.0, 0.0, 0.0, 0.0, 0.0, 0.0, 0.0, 0.0, 0.0, 0.0, 0.0, 0.0, 0.0, 0.0, 0.0, 0.0, 0.0, 0.0, 0.0, 0.0, 0.0, 0.0, 0.0, 0.0], [0.1666666716337204, 0.1666666716337204, 0.1666666716337204, 0.1666666716337204, 0.1666666716337204, 0.1666666716337204, 0.0, 0.0, 0.0, 0.0, 0.0, 0.0, 0.0, 0.0, 0.0, 0.0, 0.0, 0.0, 0.0, 0.0, 0.0, 0.0, 0.0, 0.0, 0.0, 0.0, 0.0, 0.0, 0.0, 0.0], [0.1666666716337204, 0.1666666716337204, 0.1666666716337204, 0.1666666716337204, 0.1666666716337204, 0.1666666716337204, 0.0, 0.0, 0.0, 0.0, 0.0, 0.0, 0.0, 0.0, 0.0, 0.0, 0.0, 0.0, 0.0, 0.0, 0.0, 0.0, 0.0, 0.0, 0.0, 0.0, 0.0, 0.0, 0.0, 0.0], [0.1666666716337204, 0.1666666716337204, 0.1666666716337204, 0.1666666716337204, 0.1666666716337204, 0.1666666716337204, 0.0, 0.0, 0.0, 0.0, 0.0, 0.0, 0.0, 0.0, 0.0, 0.0, 0.0, 0.0, 0.0, 0.0, 0.0, 0.0, 0.0, 0.0, 0.0, 0.0, 0.0, 0.0, 0.0, 0.0], [0.1666666716337204, 0.1666666716337204, 0.1666666716337204, 0.1666666716337204, 0.1666666716337204, 0.1666666716337204, 0.0, 0.0, 0.0, 0.0, 0.0, 0.0, 0.0, 0.0, 0.0, 0.0, 0.0, 0.0, 0.0, 0.0, 0.0, 0.0, 0.0, 0.0, 0.0, 0.0, 0.0, 0.0, 0.0, 0.0], [0.1666666716337204, 0.1666666716337204, 0.1666666716337204, 0.1666666716337204, 0.1666666716337204, 0.1666666716337204, 0.0, 0.0, 0.0, 0.0, 0.0, 0.0, 0.0, 0.0, 0.0, 0.0, 0.0, 0.0, 0.0, 0.0, 0.0, 0.0, 0.0, 0.0, 0.0, 0.0, 0.0, 0.0, 0.0, 0.0], [0.1666666716337204, 0.1666666716337204, 0.1666666716337204, 0.1666666716337204, 0.1666666716337204, 0.1666666716337204, 0.0, 0.0, 0.0, 0.0, 0.0, 0.0, 0.0, 0.0, 0.0, 0.0, 0.0, 0.0, 0.0, 0.0, 0.0, 0.0, 0.0, 0.0, 0.0, 0.0, 0.0, 0.0, 0.0, 0.0], [0.1666666716337204, 0.1666666716337204, 0.1666666716337204, 0.1666666716337204, 0.1666666716337204, 0.1666666716337204, 0.0, 0.0, 0.0, 0.0, 0.0, 0.0, 0.0, 0.0, 0.0, 0.0, 0.0, 0.0, 0.0, 0.0, 0.0, 0.0, 0.0, 0.0, 0.0, 0.0, 0.0, 0.0, 0.0, 0.0], [0.1666666716337204, 0.1666666716337204, 0.1666666716337204, 0.1666666716337204, 0.1666666716337204, 0.1666666716337204, 0.0, 0.0, 0.0, 0.0, 0.0, 0.0, 0.0, 0.0, 0.0, 0.0, 0.0, 0.0, 0.0, 0.0, 0.0, 0.0, 0.0, 0.0, 0.0, 0.0, 0.0, 0.0, 0.0, 0.0], [0.1666666716337204, 0.1666666716337204, 0.1666666716337204, 0.1666666716337204, 0.1666666716337204, 0.1666666716337204, 0.0, 0.0, 0.0, 0.0, 0.0, 0.0, 0.0, 0.0, 0.0, 0.0, 0.0, 0.0, 0.0, 0.0, 0.0, 0.0, 0.0, 0.0, 0.0, 0.0, 0.0, 0.0, 0.0, 0.0], [0.1666666716337204, 0.1666666716337204, 0.1666666716337204, 0.1666666716337204, 0.1666666716337204, 0.1666666716337204, 0.0, 0.0, 0.0, 0.0, 0.0, 0.0, 0.0, 0.0, 0.0, 0.0, 0.0, 0.0, 0.0, 0.0, 0.0, 0.0, 0.0, 0.0, 0.0, 0.0, 0.0, 0.0, 0.0, 0.0], [0.1666666716337204, 0.1666666716337204, 0.1666666716337204, 0.1666666716337204, 0.1666666716337204, 0.1666666716337204, 0.0, 0.0, 0.0, 0.0, 0.0, 0.0, 0.0, 0.0, 0.0, 0.0, 0.0, 0.0, 0.0, 0.0, 0.0, 0.0, 0.0, 0.0, 0.0, 0.0, 0.0, 0.0, 0.0, 0.0], [0.1666666716337204, 0.1666666716337204, 0.1666666716337204, 0.1666666716337204, 0.1666666716337204, 0.1666666716337204, 0.0, 0.0, 0.0, 0.0, 0.0, 0.0, 0.0, 0.0, 0.0, 0.0, 0.0, 0.0, 0.0, 0.0, 0.0, 0.0, 0.0, 0.0, 0.0, 0.0, 0.0, 0.0, 0.0, 0.0], [0.1666666716337204, 0.1666666716337204, 0.1666666716337204, 0.1666666716337204, 0.1666666716337204, 0.1666666716337204, 0.0, 0.0, 0.0, 0.0, 0.0, 0.0, 0.0, 0.0, 0.0, 0.0, 0.0, 0.0, 0.0, 0.0, 0.0, 0.0, 0.0, 0.0, 0.0, 0.0, 0.0, 0.0, 0.0, 0.0], [0.1666666716337204, 0.1666666716337204, 0.1666666716337204, 0.1666666716337204, 0.1666666716337204, 0.1666666716337204, 0.0, 0.0, 0.0, 0.0, 0.0, 0.0, 0.0, 0.0, 0.0, 0.0, 0.0, 0.0, 0.0, 0.0, 0.0, 0.0, 0.0, 0.0, 0.0, 0.0, 0.0, 0.0, 0.0, 0.0], [0.1666666716337204, 0.1666666716337204, 0.1666666716337204, 0.1666666716337204, 0.1666666716337204, 0.1666666716337204, 0.0, 0.0, 0.0, 0.0, 0.0, 0.0, 0.0, 0.0, 0.0, 0.0, 0.0, 0.0, 0.0, 0.0, 0.0, 0.0, 0.0, 0.0, 0.0, 0.0, 0.0, 0.0, 0.0, 0.0], [0.1666666716337204, 0.1666666716337204, 0.1666666716337204, 0.1666666716337204, 0.1666666716337204, 0.1666666716337204, 0.0, 0.0, 0.0, 0.0, 0.0, 0.0, 0.0, 0.0, 0.0, 0.0, 0.0, 0.0, 0.0, 0.0, 0.0, 0.0, 0.0, 0.0, 0.0, 0.0, 0.0, 0.0, 0.0, 0.0], [0.1666666716337204, 0.1666666716337204, 0.1666666716337204, 0.1666666716337204, 0.1666666716337204, 0.1666666716337204, 0.0, 0.0, 0.0, 0.0, 0.0, 0.0, 0.0, 0.0, 0.0, 0.0, 0.0, 0.0, 0.0, 0.0, 0.0, 0.0, 0.0, 0.0, 0.0, 0.0, 0.0, 0.0, 0.0, 0.0], [0.1666666716337204, 0.1666666716337204, 0.1666666716337204, 0.1666666716337204, 0.1666666716337204, 0.1666666716337204, 0.0, 0.0, 0.0, 0.0, 0.0, 0.0, 0.0, 0.0, 0.0, 0.0, 0.0, 0.0, 0.0, 0.0, 0.0, 0.0, 0.0, 0.0, 0.0, 0.0, 0.0, 0.0, 0.0, 0.0], [0.1666666716337204, 0.1666666716337204, 0.1666666716337204, 0.1666666716337204, 0.1666666716337204, 0.1666666716337204, 0.0, 0.0, 0.0, 0.0, 0.0, 0.0, 0.0, 0.0, 0.0, 0.0, 0.0, 0.0, 0.0, 0.0, 0.0, 0.0, 0.0, 0.0, 0.0, 0.0, 0.0, 0.0, 0.0, 0.0], [0.1666666716337204, 0.1666666716337204, 0.1666666716337204, 0.1666666716337204, 0.1666666716337204, 0.1666666716337204, 0.0, 0.0, 0.0, 0.0, 0.0, 0.0, 0.0, 0.0, 0.0, 0.0, 0.0, 0.0, 0.0, 0.0, 0.0, 0.0, 0.0, 0.0, 0.0, 0.0, 0.0, 0.0, 0.0, 0.0]]]], \"top_text\": [\"\\u8bf7\", \"\\u5e2e\", \"\\u6211\", \"\\u6253\", \"\\u5f00\", \"uc\", \"\\u8bf7\", \"\\u5e2e\", \"\\u6211\", \"\\u6253\", \"\\u5f00\", \"uc\"], \"bot_text\": [\"\\u8bf7\", \"\\u5e2e\", \"\\u6211\", \"\\u6253\", \"\\u5f00\", \"uc\", \"\\u8bf7\", \"\\u5e2e\", \"\\u6211\", \"\\u6253\", \"\\u5f00\", \"uc\"]}, \"a\": {\"att\": [[[[0.16779863834381104, 0.1665114462375641, 0.16628912091255188, 0.16642801463603973, 0.16632521152496338, 0.16664758324623108], [0.1670670062303543, 0.16656199097633362, 0.1665695607662201, 0.1666916161775589, 0.16656452417373657, 0.1665453314781189], [0.1669328510761261, 0.16658444702625275, 0.16657336056232452, 0.16657118499279022, 0.1665325164794922, 0.16680559515953064], [0.16703882813453674, 0.16653141379356384, 0.16639797389507294, 0.16642770171165466, 0.1665537804365158, 0.1670503169298172], [0.16669587790966034, 0.16667310893535614, 0.16664071381092072, 0.16658808290958405, 0.16663384437561035, 0.16676834225654602], [0.166002556681633, 0.16710500419139862, 0.16678735613822937, 0.16670715808868408, 0.16696564853191376, 0.1664322465658188]]]], \"top_text\": [\"\\u8bf7\", \"\\u5e2e\", \"\\u6211\", \"\\u6253\", \"\\u5f00\", \"uc\"], \"bot_text\": [\"\\u8bf7\", \"\\u5e2e\", \"\\u6211\", \"\\u6253\", \"\\u5f00\", \"uc\"]}, \"b\": {\"att\": [[[[0.0, 0.0, 0.0, 0.0, 0.0, 0.0], [0.0, 0.0, 0.0, 0.0, 0.0, 0.0], [0.0, 0.0, 0.0, 0.0, 0.0, 0.0], [0.0, 0.0, 0.0, 0.0, 0.0, 0.0], [0.0, 0.0, 0.0, 0.0, 0.0, 0.0], [0.0, 0.0, 0.0, 0.0, 0.0, 0.0]]]], \"top_text\": [\"\\u8bf7\", \"\\u5e2e\", \"\\u6211\", \"\\u6253\", \"\\u5f00\", \"uc\"], \"bot_text\": [\"\\u8bf7\", \"\\u5e2e\", \"\\u6211\", \"\\u6253\", \"\\u5f00\", \"uc\"]}, \"ab\": {\"att\": [[[[0.0, 0.0, 0.0, 0.0, 0.0, 0.0], [0.0, 0.0, 0.0, 0.0, 0.0, 0.0], [0.0, 0.0, 0.0, 0.0, 0.0, 0.0], [0.0, 0.0, 0.0, 0.0, 0.0, 0.0], [0.0, 0.0, 0.0, 0.0, 0.0, 0.0], [0.0, 0.0, 0.0, 0.0, 0.0, 0.0]]]], \"top_text\": [\"\\u8bf7\", \"\\u5e2e\", \"\\u6211\", \"\\u6253\", \"\\u5f00\", \"uc\"], \"bot_text\": [\"\\u8bf7\", \"\\u5e2e\", \"\\u6211\", \"\\u6253\", \"\\u5f00\", \"uc\"]}, \"ba\": {\"att\": [[[[0.1666666716337204, 0.1666666716337204, 0.1666666716337204, 0.1666666716337204, 0.1666666716337204, 0.1666666716337204], [0.1666666716337204, 0.1666666716337204, 0.1666666716337204, 0.1666666716337204, 0.1666666716337204, 0.1666666716337204], [0.1666666716337204, 0.1666666716337204, 0.1666666716337204, 0.1666666716337204, 0.1666666716337204, 0.1666666716337204], [0.1666666716337204, 0.1666666716337204, 0.1666666716337204, 0.1666666716337204, 0.1666666716337204, 0.1666666716337204], [0.1666666716337204, 0.1666666716337204, 0.1666666716337204, 0.1666666716337204, 0.1666666716337204, 0.1666666716337204], [0.1666666716337204, 0.1666666716337204, 0.1666666716337204, 0.1666666716337204, 0.1666666716337204, 0.1666666716337204]]]], \"top_text\": [\"\\u8bf7\", \"\\u5e2e\", \"\\u6211\", \"\\u6253\", \"\\u5f00\", \"uc\"], \"bot_text\": [\"\\u8bf7\", \"\\u5e2e\", \"\\u6211\", \"\\u6253\", \"\\u5f00\", \"uc\"]}}"
      ],
      "text/plain": [
       "<IPython.core.display.Javascript object>"
      ]
     },
     "metadata": {},
     "output_type": "display_data"
    },
    {
     "data": {
      "application/javascript": [
       "/**\n",
       " * @fileoverview Transformer Visualization D3 javascript code.\n",
       " *\n",
       " *\n",
       "\n",
       " *  Based on: https://github.com/tensorflow/tensor2tensor/blob/master/tensor2tensor/visualization/attention.js\n",
       " *\n",
       " * Change log:\n",
       " *\n",
       " * 12/19/18  Jesse Vig   Assorted cleanup. Changed orientation of attention matrices.\n",
       " */\n",
       "\n",
       "requirejs(['jquery', 'd3'],\n",
       "function($, d3) {\n",
       "\n",
       "var attention = window.attention;\n",
       "\n",
       "const TEXT_SIZE = 15;\n",
       "const BOXWIDTH = TEXT_SIZE * 8;\n",
       "const BOXHEIGHT = TEXT_SIZE * 1.5;\n",
       "const WIDTH = 2000;\n",
       "const HEIGHT = attention.all.bot_text.length * BOXHEIGHT * 2 + 100;\n",
       "const MATRIX_WIDTH = 150;\n",
       "const head_colours = d3.scale.category10();\n",
       "const CHECKBOX_SIZE = 20;\n",
       "\n",
       "function lighten(colour) {\n",
       "  var c = d3.hsl(colour);\n",
       "  var increment = (1 - c.l) * 0.6;\n",
       "  c.l += increment;\n",
       "  c.s -= increment;\n",
       "  return c;\n",
       "}\n",
       "\n",
       "function transpose(mat) {\n",
       "  return mat[0].map(function(col, i) {\n",
       "    return mat.map(function(row) {\n",
       "      return row[i];\n",
       "    });\n",
       "  });\n",
       "}\n",
       "\n",
       "function zip(a, b) {\n",
       "  return a.map(function (e, i) {\n",
       "    return [e, b[i]];\n",
       "  });\n",
       "}\n",
       "\n",
       "\n",
       "function renderVis(id, top_text, bot_text, attention_heads, config) {\n",
       "  $(id).empty();\n",
       "  var svg = d3.select(id)\n",
       "            .append('svg')\n",
       "            .attr(\"width\", WIDTH)\n",
       "            .attr(\"height\", HEIGHT);\n",
       "\n",
       "  var att_data = [];\n",
       "  var num_heads = attention_heads.length;\n",
       "  for (var i=0; i < num_heads; i++) {\n",
       "    var att = attention_heads[i];\n",
       "    var att_trans = transpose(att);\n",
       "    att_data.push(zip(att_trans, att));\n",
       "  }\n",
       "\n",
       "  renderText(svg, top_text, true, att_data, 0);\n",
       "  renderText(svg, bot_text, false, att_data, MATRIX_WIDTH + BOXWIDTH);\n",
       "\n",
       "  renderAttentionHighlights(svg, att_data);\n",
       "\n",
       "  svg.append(\"g\").classed(\"attention_heads\", true);\n",
       "\n",
       "  renderAttention(svg, attention_heads);\n",
       "\n",
       "  draw_checkboxes(config, 0, svg, attention_heads);\n",
       "}\n",
       "\n",
       "\n",
       "function renderText(svg, text, is_top, att_data, left_pos) {\n",
       "  // att_data: list of tuples (att, att_trans), one for each layer. att and att_trans are attention matrics for each layer.\n",
       "  //           att is of shape [num_heads, source_len, target_len)\n",
       "  var id = is_top ? \"top\" : \"bottom\";\n",
       "  var textContainer = svg.append(\"svg:g\")\n",
       "                         .attr(\"id\", id);\n",
       "\n",
       "  textContainer.append(\"g\").classed(\"attention_boxes\", true)\n",
       "               .selectAll(\"g\")\n",
       "               .data(att_data)\n",
       "               .enter()\n",
       "               .append(\"g\")\n",
       "               .selectAll(\"rect\")\n",
       "               .data(function(d) {return d;})\n",
       "               .enter()\n",
       "               .append(\"rect\")\n",
       "               .attr(\"x\", function(d, i, j) {\n",
       "                 return left_pos + box_offset(j);\n",
       "               })\n",
       "               .attr(\"y\", function(d, i) {\n",
       "                 return (+1) * BOXHEIGHT;\n",
       "               })\n",
       "               .attr(\"width\", BOXWIDTH/active_heads())\n",
       "               .attr(\"height\", function() { return BOXHEIGHT; })\n",
       "               .attr(\"fill\", function(d, i, j) {\n",
       "                  return head_colours(j);\n",
       "                })\n",
       "               .style(\"opacity\", 0.0);\n",
       "\n",
       "\n",
       "  var tokenContainer = textContainer.append(\"g\").selectAll(\"g\")\n",
       "                                    .data(text)\n",
       "                                    .enter()\n",
       "                                    .append(\"g\");\n",
       "\n",
       "  tokenContainer.append(\"rect\")\n",
       "                .classed(\"background\", true)\n",
       "                .style(\"opacity\", 0.0)\n",
       "                .attr(\"fill\", \"lightgray\")\n",
       "                .attr(\"x\", left_pos)\n",
       "                .attr(\"y\", function(d, i) {\n",
       "                  return (i+1) * BOXHEIGHT;\n",
       "                })\n",
       "                .attr(\"width\", BOXWIDTH)\n",
       "                .attr(\"height\", BOXHEIGHT);\n",
       "\n",
       "  var theText = tokenContainer.append(\"text\")\n",
       "                              .text(function(d) { return d; })\n",
       "                              .attr(\"font-size\", TEXT_SIZE + \"px\")\n",
       "                              .style(\"cursor\", \"default\")\n",
       "                              .style(\"-webkit-user-select\", \"none\")\n",
       "                              .attr(\"x\", left_pos)\n",
       "                              .attr(\"y\", function(d, i) {\n",
       "                                return (i+1) * BOXHEIGHT;\n",
       "                              });\n",
       "\n",
       "  if (is_top) {\n",
       "    theText.style(\"text-anchor\", \"end\")\n",
       "           .attr(\"dx\", BOXWIDTH - TEXT_SIZE)\n",
       "           .attr(\"dy\", TEXT_SIZE);\n",
       "  } else {\n",
       "    theText.style(\"text-anchor\", \"start\")\n",
       "           .attr(\"dx\", + TEXT_SIZE)\n",
       "           .attr(\"dy\", TEXT_SIZE);\n",
       "  }\n",
       "\n",
       "  tokenContainer.on(\"mouseover\", function(d, index) {\n",
       "    textContainer.selectAll(\".background\")\n",
       "                 .style(\"opacity\", function(d, i) {\n",
       "                   return i == index ? 1.0 : 0.0;\n",
       "                 });\n",
       "\n",
       "    svg.selectAll(\".attention_heads\").style(\"display\", \"none\");\n",
       "\n",
       "    svg.selectAll(\".line_heads\")  // To get the nesting to work.\n",
       "       .selectAll(\".att_lines\")\n",
       "       .attr(\"stroke-opacity\", function(d) {\n",
       "          return 1.0;\n",
       "        })\n",
       "       .attr(\"y1\", function(d, i) {\n",
       "        if (is_top) {\n",
       "          return (index+1) * BOXHEIGHT + (BOXHEIGHT/2);\n",
       "        } else {\n",
       "          return (i+1) * BOXHEIGHT + (BOXHEIGHT/2);\n",
       "        }\n",
       "     })\n",
       "     .attr(\"x1\", BOXWIDTH)\n",
       "     .attr(\"y2\", function(d, i) {\n",
       "       if (is_top) {\n",
       "          return (i+1) * BOXHEIGHT + (BOXHEIGHT/2);\n",
       "        } else {\n",
       "          return (index+1) * BOXHEIGHT + (BOXHEIGHT/2);\n",
       "        }\n",
       "     })\n",
       "     .attr(\"x2\", BOXWIDTH + MATRIX_WIDTH)\n",
       "     .attr(\"stroke-width\", 2)\n",
       "     .attr(\"stroke\", function(d, i, j) {\n",
       "        return head_colours(j);\n",
       "      })\n",
       "     .attr(\"stroke-opacity\", function(d, i, j) {\n",
       "      if (is_top) {d = d[0];} else {d = d[1];}\n",
       "      if (config.head_vis[j]) {\n",
       "        if (d) {\n",
       "          return d[index];\n",
       "        } else {\n",
       "          return 0.0;\n",
       "        }\n",
       "      } else {\n",
       "        return 0.0;\n",
       "      }\n",
       "     });\n",
       "\n",
       "\n",
       "    function updateAttentionBoxes() {\n",
       "      var id = is_top ? \"bottom\" : \"top\";\n",
       "      var the_left_pos = is_top ? MATRIX_WIDTH + BOXWIDTH : 0;\n",
       "      svg.select(\"#\" + id)\n",
       "         .selectAll(\".attention_boxes\")\n",
       "         .selectAll(\"g\")\n",
       "         .selectAll(\"rect\")\n",
       "         .attr(\"x\", function(d, i, j) { return the_left_pos + box_offset(j); })\n",
       "         .attr(\"y\", function(d, i) { return (i+1) * BOXHEIGHT; })\n",
       "         .attr(\"width\", BOXWIDTH/active_heads())\n",
       "         .attr(\"height\", function() { return BOXHEIGHT; })\n",
       "         .style(\"opacity\", function(d, i, j) {\n",
       "            if (is_top) {d = d[0];} else {d = d[1];}\n",
       "            if (config.head_vis[j])\n",
       "              if (d) {\n",
       "                return d[index];\n",
       "              } else {\n",
       "                return 0.0;\n",
       "              }\n",
       "            else\n",
       "              return 0.0;\n",
       "\n",
       "         });\n",
       "    }\n",
       "\n",
       "    updateAttentionBoxes();\n",
       "  });\n",
       "\n",
       "  textContainer.on(\"mouseleave\", function() {\n",
       "    d3.select(this).selectAll(\".background\")\n",
       "                   .style(\"opacity\", 0.0);\n",
       "\n",
       "    svg.selectAll(\".att_lines\").attr(\"stroke-opacity\", 0.0);\n",
       "    svg.selectAll(\".attention_heads\").style(\"display\", \"inline\");\n",
       "    svg.selectAll(\".attention_boxes\")\n",
       "       .selectAll(\"g\")\n",
       "       .selectAll(\"rect\")\n",
       "       .style(\"opacity\", 0.0);\n",
       "  });\n",
       "}\n",
       "\n",
       "function renderAttentionHighlights(svg, attention) {\n",
       "  var line_container = svg.append(\"g\");\n",
       "  line_container.selectAll(\"g\")\n",
       "                .data(attention)\n",
       "                .enter()\n",
       "                .append(\"g\")\n",
       "                .classed(\"line_heads\", true)\n",
       "                .selectAll(\"line\")\n",
       "                .data(function(d){return d;})\n",
       "                .enter()\n",
       "                .append(\"line\").classed(\"att_lines\", true);\n",
       "}\n",
       "\n",
       "function renderAttention(svg, attention_heads) {\n",
       "  var line_container = svg.selectAll(\".attention_heads\");\n",
       "  line_container.html(null);\n",
       "  for(var h=0; h<attention_heads.length; h++) {\n",
       "    for(var s=0; s<attention_heads[h].length; s++) {\n",
       "      for(var a=0; a<attention_heads[h][s].length; a++) {\n",
       "        line_container.append(\"line\")\n",
       "        .attr(\"y1\", (s+1) * BOXHEIGHT + (BOXHEIGHT/2))\n",
       "        .attr(\"x1\", BOXWIDTH)\n",
       "        .attr(\"y2\", (a+1) * BOXHEIGHT + (BOXHEIGHT/2))\n",
       "        .attr(\"x2\", BOXWIDTH + MATRIX_WIDTH)\n",
       "        .attr(\"stroke-width\", 2)\n",
       "        .attr(\"stroke\", head_colours(h))\n",
       "        .attr(\"stroke-opacity\", function() {\n",
       "          if (config.head_vis[h]) {\n",
       "            return attention_heads[h][s][a]/active_heads();\n",
       "          } else {\n",
       "            return 0.0;\n",
       "          }\n",
       "        }());\n",
       "      }\n",
       "    }\n",
       "  }\n",
       "}\n",
       "\n",
       "// Checkboxes\n",
       "function box_offset(i) {\n",
       "  var num_head_above = config.head_vis.reduce(\n",
       "      function(acc, val, cur) {return val && cur < i ? acc + 1: acc;}, 0);\n",
       "  return num_head_above*(BOXWIDTH / active_heads());\n",
       "}\n",
       "\n",
       "function active_heads() {\n",
       "  return config.head_vis.reduce(function(acc, val) {\n",
       "    return val ? acc + 1: acc;\n",
       "  }, 0);\n",
       "}\n",
       "\n",
       "function draw_checkboxes(config, top, svg, attention_heads) {\n",
       "  var checkboxContainer = svg.append(\"g\");\n",
       "  var checkbox = checkboxContainer.selectAll(\"rect\")\n",
       "                                  .data(config.head_vis)\n",
       "                                  .enter()\n",
       "                                  .append(\"rect\")\n",
       "                                  .attr(\"fill\", function(d, i) {\n",
       "                                    return head_colours(i);\n",
       "                                  })\n",
       "                                  .attr(\"x\", function(d, i) {\n",
       "                                    return (i+1) * CHECKBOX_SIZE;\n",
       "                                  })\n",
       "                                  .attr(\"y\", top)\n",
       "                                  .attr(\"width\", CHECKBOX_SIZE)\n",
       "                                  .attr(\"height\", CHECKBOX_SIZE);\n",
       "\n",
       "  function update_checkboxes() {\n",
       "    checkboxContainer.selectAll(\"rect\")\n",
       "                              .data(config.head_vis)\n",
       "                              .attr(\"fill\", function(d, i) {\n",
       "      var head_colour = head_colours(i);\n",
       "      var colour = d ? head_colour : lighten(head_colour);\n",
       "      return colour;\n",
       "    });\n",
       "  }\n",
       "\n",
       "  update_checkboxes();\n",
       "\n",
       "  checkbox.on(\"click\", function(d, i) {\n",
       "    if (config.head_vis[i] && active_heads() == 1) return;\n",
       "    config.head_vis[i] = !config.head_vis[i];\n",
       "    update_checkboxes();\n",
       "    renderAttention(svg, attention_heads);\n",
       "  });\n",
       "\n",
       "  checkbox.on(\"dblclick\", function(d, i) {\n",
       "    // If we double click on the only active head then reset\n",
       "    if (config.head_vis[i] && active_heads() == 1) {\n",
       "      config.head_vis = new Array(config.num_heads).fill(true);\n",
       "    } else {\n",
       "      config.head_vis = new Array(config.num_heads).fill(false);\n",
       "      config.head_vis[i] = true;\n",
       "    }\n",
       "    update_checkboxes();\n",
       "    renderAttention(svg, attention_heads);\n",
       "  });\n",
       "}\n",
       "\n",
       "var config = {\n",
       "  layer: 0,\n",
       "  att_type: 'all',\n",
       "};\n",
       "\n",
       "function visualize() {\n",
       "  var num_heads = attention['all']['att'][0].length;\n",
       "  config.head_vis  = new Array(num_heads).fill(true);\n",
       "  config.num_heads = num_heads;\n",
       "  config.attention = attention;\n",
       "\n",
       "  render();\n",
       "}\n",
       "\n",
       "function render() {\n",
       "  var conf = config.attention[config.att_type];\n",
       "\n",
       "  var top_text = conf.top_text;\n",
       "  var bot_text = conf.bot_text;\n",
       "  var attention = conf.att[config.layer];\n",
       "\n",
       "  $(\"#vis svg\").empty();\n",
       "  renderVis(\"#vis\", top_text, bot_text, attention, config);\n",
       "}\n",
       "\n",
       "$(\"#layer\").empty();\n",
       "for(var i=0; i<12; i++) {\n",
       "  $(\"#layer\").append($(\"<option />\").val(i).text(i));\n",
       "}\n",
       "\n",
       "$(\"#layer\").on('change', function(e) {\n",
       "  config.layer = +e.currentTarget.value;\n",
       "  render();\n",
       "});\n",
       "\n",
       "$(\"#att_type\").on('change', function(e) {\n",
       "  config.att_type = e.currentTarget.value;\n",
       "  render();\n",
       "});\n",
       "\n",
       "$(\"button\").on('click', visualize);\n",
       "\n",
       "visualize();\n",
       "\n",
       "});"
      ],
      "text/plain": [
       "<IPython.core.display.Javascript object>"
      ]
     },
     "metadata": {},
     "output_type": "display_data"
    }
   ],
   "source": [
    "sentence_a = \"请 帮 我 打 开 uc\".split()\n",
    "sentence_b = sentence_a\n",
    "call_html()\n",
    "attention.show(sentence_a, sentence_b,tmp)"
   ]
  },
  {
   "cell_type": "code",
   "execution_count": 25,
   "metadata": {},
   "outputs": [],
   "source": [
    "_ = attention._get_attentions(sentence_a, sentence_b, tmp)"
   ]
  },
  {
   "cell_type": "code",
   "execution_count": 27,
   "metadata": {},
   "outputs": [
    {
     "name": "stdout",
     "output_type": "stream",
     "text": [
      "<class 'dict'>\n"
     ]
    }
   ],
   "source": [
    "print(type(_))"
   ]
  },
  {
   "cell_type": "code",
   "execution_count": null,
   "metadata": {},
   "outputs": [],
   "source": []
  },
  {
   "cell_type": "code",
   "execution_count": null,
   "metadata": {},
   "outputs": [],
   "source": []
  },
  {
   "cell_type": "code",
   "execution_count": null,
   "metadata": {},
   "outputs": [],
   "source": []
  },
  {
   "cell_type": "code",
   "execution_count": null,
   "metadata": {},
   "outputs": [],
   "source": []
  },
  {
   "cell_type": "code",
   "execution_count": null,
   "metadata": {},
   "outputs": [],
   "source": []
  },
  {
   "cell_type": "code",
   "execution_count": null,
   "metadata": {},
   "outputs": [],
   "source": []
  },
  {
   "cell_type": "code",
   "execution_count": null,
   "metadata": {},
   "outputs": [],
   "source": []
  }
 ],
 "metadata": {
  "kernelspec": {
   "display_name": "Python 3",
   "language": "python",
   "name": "python3"
  },
  "language_info": {
   "codemirror_mode": {
    "name": "ipython",
    "version": 3
   },
   "file_extension": ".py",
   "mimetype": "text/x-python",
   "name": "python",
   "nbconvert_exporter": "python",
   "pygments_lexer": "ipython3",
   "version": "3.6.7"
  }
 },
 "nbformat": 4,
 "nbformat_minor": 1
}
